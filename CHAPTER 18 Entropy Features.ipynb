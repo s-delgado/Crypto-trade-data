{
 "cells": [
  {
   "cell_type": "code",
   "execution_count": 1,
   "metadata": {},
   "outputs": [],
   "source": [
    "%load_ext autoreload\n",
    "%autoreload 2"
   ]
  },
  {
   "cell_type": "code",
   "execution_count": 354,
   "metadata": {},
   "outputs": [],
   "source": [
    "import numpy as np\n",
    "import pandas as pd\n",
    "import matplotlib.pyplot as plt\n",
    "import arctic\n",
    "from functions import generate_volumebars, get_tick_data, generate_dollarbars, generate_tickbars, fix_timestamps\n",
    "from datetime import datetime\n",
    "# from statsmodels.tsa.stattools import adfuller, coint\n",
    "# from statsmodels.stats.stattools import jarque_bera\n",
    "import statsmodels.api as sm\n",
    "from tqdm.notebook import tqdm\n",
    "import seaborn as sns\n",
    "import math\n",
    "pd.set_option('float_format', '{:f}'.format)"
   ]
  },
  {
   "cell_type": "code",
   "execution_count": 4,
   "metadata": {},
   "outputs": [
    {
     "name": "stdout",
     "output_type": "stream",
     "text": [
      "CPU times: user 8.47 s, sys: 1.97 s, total: 10.4 s\n",
      "Wall time: 11.7 s\n",
      "CPU times: user 2.07 s, sys: 858 ms, total: 2.93 s\n",
      "Wall time: 2.92 s\n"
     ]
    }
   ],
   "source": [
    "start_date = datetime(2020,7,1)\n",
    "end_date = datetime(2020,7,30)\n",
    "\n",
    "%time df = get_tick_data('binance_futures', 'BTCUSDT', start_date, end_date)\n",
    "%time df = fix_timestamps(df)"
   ]
  },
  {
   "cell_type": "markdown",
   "metadata": {},
   "source": [
    "## EXERCISES\n",
    "### 18.1 Form dollar bars on E-mini S&P 500 futures:"
   ]
  },
  {
   "cell_type": "code",
   "execution_count": 5,
   "metadata": {},
   "outputs": [],
   "source": [
    "dbars = generate_dollarbars(df, 10000)"
   ]
  },
  {
   "cell_type": "markdown",
   "metadata": {},
   "source": [
    "#### (a) Quantize the returns series using the binary method."
   ]
  },
  {
   "cell_type": "code",
   "execution_count": 18,
   "metadata": {},
   "outputs": [],
   "source": [
    "r = dbars.close.pct_change().dropna()\n",
    "be = r[r!=0]\n",
    "be = pd.Series(np.where(be > 0,1,0), index=be.index)"
   ]
  },
  {
   "cell_type": "markdown",
   "metadata": {},
   "source": [
    "#### (b) Quantize the returns series using the quantile encoding, using 10 letters."
   ]
  },
  {
   "cell_type": "code",
   "execution_count": 126,
   "metadata": {},
   "outputs": [
    {
     "data": {
      "text/plain": [
       "4    306685\n",
       "9    218502\n",
       "7    218502\n",
       "2    218502\n",
       "0    218502\n",
       "8    218501\n",
       "3    218501\n",
       "1    218501\n",
       "6    218496\n",
       "5    130323\n",
       "Name: close, dtype: int64"
      ]
     },
     "execution_count": 126,
     "metadata": {},
     "output_type": "execute_result"
    }
   ],
   "source": [
    "qe = r.copy()\n",
    "\n",
    "quantiles = [round(x,1) for x in np.linspace(0.1,1,10)]\n",
    "for q in quantiles:\n",
    "    qe[qe <= r.quantile(q)] = q\n",
    "qe = (qe*10).astype(int) - 1\n",
    "\n",
    "qe.value_counts()"
   ]
  },
  {
   "cell_type": "markdown",
   "metadata": {},
   "source": [
    "#### (c) Quantize the returns series using the sigma encoding, where 𝜎 is the standard deviation of all bar returns."
   ]
  },
  {
   "cell_type": "code",
   "execution_count": 143,
   "metadata": {},
   "outputs": [],
   "source": [
    "se = r.copy()\n",
    "\n",
    "sigma = np.std(r)\n",
    "minr = min(r)\n",
    "maxr = max(r)\n",
    "\n",
    "num_codes = math.ceil((maxr-minr)/sigma)\n",
    "\n",
    "for c in range(1, num_codes+1):\n",
    "    l = minr + sigma * (c-1)\n",
    "    u = minr + sigma * c\n",
    "    se[(se >= l) & (se < u)] = c\n",
    "se = se.astype(int)"
   ]
  },
  {
   "cell_type": "code",
   "execution_count": 144,
   "metadata": {},
   "outputs": [
    {
     "data": {
      "text/plain": [
       "107    1409448\n",
       "108     430236\n",
       "106     184754\n",
       "109      73811\n",
       "105      36216\n",
       "        ...   \n",
       "148          1\n",
       "152          1\n",
       "156          1\n",
       "182          1\n",
       "1            1\n",
       "Name: close, Length: 94, dtype: int64"
      ]
     },
     "execution_count": 144,
     "metadata": {},
     "output_type": "execute_result"
    }
   ],
   "source": [
    "se.value_counts()"
   ]
  },
  {
   "cell_type": "markdown",
   "metadata": {},
   "source": [
    "#### (d) Compute the entropy of the three encoded series, using the plug-in method."
   ]
  },
  {
   "cell_type": "code",
   "execution_count": 153,
   "metadata": {},
   "outputs": [
    {
     "name": "stdout",
     "output_type": "stream",
     "text": [
      "(0.9999885735365703, {'1': 0.50199, '0': 0.49801})\n",
      "(3.2706207667954335, {'5': 0.05199, '3': 0.1168, '7': 0.11336, '2': 0.11469, '4': 0.13614, '1': 0.09978, '9': 0.07071, '0': 0.07092, '6': 0.1254, '8': 0.10021})\n"
     ]
    }
   ],
   "source": [
    "def pmf1(msg,w):\n",
    "    # Compute the prob mass function for a one-dim discrete rv\n",
    "    # len(msg)-w occurrences\n",
    "    lib={}\n",
    "    if not isinstance(msg, str):\n",
    "        msg = ''.join(map(str, msg))\n",
    "#     print(msg)\n",
    "    for i in range(w, len(msg)+1):\n",
    "        msg_ = msg[i-w:i]\n",
    "#         print(msg_)\n",
    "        if msg_ not in lib:\n",
    "            lib[msg_] = [i - w]\n",
    "        else:\n",
    "            lib[msg_] = lib[msg_] + [i-w] \n",
    "#     print(lib)\n",
    "    pmf = float(len(msg) - w +1) \n",
    "#     print(pmf)\n",
    "    pmf = {i:len(lib[i]) / pmf for i in lib} \n",
    "    return pmf\n",
    "\n",
    "def plugIn(msg,w):\n",
    "    # Compute plug-in (ML) entropy rate\n",
    "    pmf = pmf1(msg, w)\n",
    "    out = -sum([pmf[i] * np.log2(pmf[i]) for i in pmf])/w \n",
    "    return out, pmf\n",
    "# Entropy binary encoding message lenght =1\n",
    "print(plugIn(be[0:100000], 1))\n",
    "# Entropy quantile encoding message lenght =1\n",
    "print(plugIn(qe[0:100000], 1))"
   ]
  },
  {
   "cell_type": "code",
   "execution_count": 159,
   "metadata": {
    "scrolled": true
   },
   "outputs": [
    {
     "data": {
      "text/plain": [
       "(1.6316712373028968,\n",
       " {107: 0.6450518646325083,\n",
       "  108: 0.1969029960892717,\n",
       "  106: 0.08455502593803704,\n",
       "  109: 0.033780546128973944,\n",
       "  105: 0.016574714590060022,\n",
       "  110: 0.008057152925723622,\n",
       "  104: 0.00466907549833754,\n",
       "  111: 0.002851239007512534,\n",
       "  103: 0.0018471269075956,\n",
       "  112: 0.001280998070951458,\n",
       "  102: 0.0009276824186561648,\n",
       "  113: 0.000643931506191033,\n",
       "  101: 0.000519904897678048,\n",
       "  114: 0.00038535204563813064,\n",
       "  100: 0.0003029727484708343,\n",
       "  115: 0.0002407306128333215,\n",
       "  99: 0.00022013578854149742,\n",
       "  116: 0.0001560630018558225,\n",
       "  98: 0.00013501051480195787,\n",
       "  117: 0.00010938140012768792,\n",
       "  97: 0.00010388944698320149,\n",
       "  118: 8.237929716729634e-05,\n",
       "  96: 7.27683791644451e-05,\n",
       "  119: 6.681876325791814e-05,\n",
       "  95: 6.453044944771546e-05,\n",
       "  120: 5.400420592078315e-05,\n",
       "  94: 3.707068372528335e-05,\n",
       "  121: 3.524003267712121e-05,\n",
       "  93: 3.157873058079693e-05,\n",
       "  122: 2.1510149815905154e-05,\n",
       "  92: 2.1052487053864617e-05,\n",
       "  123: 1.9679498767743014e-05,\n",
       "  124: 1.4645208385297126e-05,\n",
       "  90: 1.4187545623256591e-05,\n",
       "  126: 1.2814557337134985e-05,\n",
       "  89: 1.235689457509445e-05,\n",
       "  91: 1.0983906288972845e-05,\n",
       "  125: 9.153255240810704e-06,\n",
       "  88: 8.69559247877017e-06,\n",
       "  129: 8.237929716729633e-06,\n",
       "  85: 7.322604192648563e-06,\n",
       "  87: 6.407278668567492e-06,\n",
       "  128: 5.9496159065269575e-06,\n",
       "  86: 5.491953144486423e-06,\n",
       "  127: 5.034290382445887e-06,\n",
       "  83: 4.576627620405352e-06,\n",
       "  84: 3.6613020963242815e-06,\n",
       "  131: 3.203639334283746e-06,\n",
       "  130: 2.7459765722432113e-06,\n",
       "  132: 2.7459765722432113e-06,\n",
       "  133: 2.7459765722432113e-06,\n",
       "  81: 2.7459765722432113e-06,\n",
       "  139: 2.288313810202676e-06,\n",
       "  71: 2.288313810202676e-06,\n",
       "  73: 1.8306510481621407e-06,\n",
       "  75: 1.8306510481621407e-06,\n",
       "  82: 1.3729882861216057e-06,\n",
       "  79: 1.3729882861216057e-06,\n",
       "  78: 1.3729882861216057e-06,\n",
       "  64: 1.3729882861216057e-06,\n",
       "  136: 1.3729882861216057e-06,\n",
       "  9: 9.153255240810704e-07,\n",
       "  142: 9.153255240810704e-07,\n",
       "  76: 9.153255240810704e-07,\n",
       "  66: 9.153255240810704e-07,\n",
       "  135: 9.153255240810704e-07,\n",
       "  134: 9.153255240810704e-07,\n",
       "  141: 9.153255240810704e-07,\n",
       "  61: 9.153255240810704e-07,\n",
       "  63: 4.576627620405352e-07,\n",
       "  15: 4.576627620405352e-07,\n",
       "  62: 4.576627620405352e-07,\n",
       "  70: 4.576627620405352e-07,\n",
       "  49: 4.576627620405352e-07,\n",
       "  67: 4.576627620405352e-07,\n",
       "  69: 4.576627620405352e-07,\n",
       "  46: 4.576627620405352e-07,\n",
       "  59: 4.576627620405352e-07,\n",
       "  294: 4.576627620405352e-07,\n",
       "  77: 4.576627620405352e-07,\n",
       "  80: 4.576627620405352e-07,\n",
       "  206: 4.576627620405352e-07,\n",
       "  137: 4.576627620405352e-07,\n",
       "  138: 4.576627620405352e-07,\n",
       "  140: 4.576627620405352e-07,\n",
       "  143: 4.576627620405352e-07,\n",
       "  144: 4.576627620405352e-07,\n",
       "  145: 4.576627620405352e-07,\n",
       "  147: 4.576627620405352e-07,\n",
       "  148: 4.576627620405352e-07,\n",
       "  152: 4.576627620405352e-07,\n",
       "  156: 4.576627620405352e-07,\n",
       "  182: 4.576627620405352e-07,\n",
       "  1: 4.576627620405352e-07})"
      ]
     },
     "execution_count": 159,
     "metadata": {},
     "output_type": "execute_result"
    }
   ],
   "source": [
    "# Entropy for quantile encoding for \n",
    "pmf = (se.value_counts() / se.value_counts().sum()).to_dict()\n",
    "out = -sum([pmf[i] * np.log2(pmf[i]) for i in pmf])/1\n",
    "out, pmf"
   ]
  },
  {
   "cell_type": "code",
   "execution_count": 161,
   "metadata": {},
   "outputs": [
    {
     "name": "stdout",
     "output_type": "stream",
     "text": [
      "1\n",
      "BE: 0.9999885735365703\n",
      "QE: 3.2706207667954335\n",
      "2\n",
      "BE: 0.9734101557287611\n",
      "QE: 3.2153931789504084\n",
      "3\n",
      "BE: 0.9586068963054594\n",
      "QE: 3.179469040668463\n",
      "4\n",
      "BE: 0.9489920470496829\n",
      "QE: 3.1390870757901386\n",
      "5\n",
      "BE: 0.9422235678513804\n",
      "QE: 3.001404347644249\n",
      "6\n",
      "BE: 0.937195629415263\n",
      "QE: 2.685854402911815\n",
      "7\n",
      "BE: 0.9333441463125796\n",
      "QE: 2.348410713348405\n",
      "8\n",
      "BE: 0.9302397901424408\n",
      "QE: 2.0673041771141114\n",
      "9\n",
      "BE: 0.927635149456782\n",
      "QE: 1.841668750488327\n"
     ]
    }
   ],
   "source": [
    "for w in range(1,10):\n",
    "    print(w)\n",
    "    print('BE: {}'.format(plugIn(be[0:100000], w)[0]))\n",
    "    print('QE: {}'.format(plugIn(qe[0:100000], w)[0]))"
   ]
  },
  {
   "cell_type": "code",
   "execution_count": 235,
   "metadata": {},
   "outputs": [],
   "source": [
    "def lempelZiv_lib(msg): \n",
    "    i=1\n",
    "    lib=[msg[0]] \n",
    "    while i<len(msg):\n",
    "        for j in range(i,len(msg)):\n",
    "            msg_=msg[i:j+1]\n",
    "            if msg_ not in lib: \n",
    "                lib.append(msg_) \n",
    "                break\n",
    "        i=j+1 \n",
    "    return lib\n",
    "\n",
    "def matchLength(msg,i,n):\n",
    "    # Maximum matched length+1, with overlap. \n",
    "    # i>=n & len(msg)>=i+n\n",
    "    subS=''\n",
    "    for l in range(n):\n",
    "        msg1=msg[i:i+l+1]\n",
    "#         print('-'+msg1)\n",
    "        for j in range(i-n,i):\n",
    "            msg0=msg[j:j+l+1] \n",
    "#             print(msg0)\n",
    "            if msg1==msg0:\n",
    "                subS=msg1\n",
    "                break # search for higher l. \n",
    "    return len(subS)+1,subS # matched length + 1\n",
    "\n",
    "# matchLength('10000111', 6, 2)"
   ]
  },
  {
   "cell_type": "code",
   "execution_count": 475,
   "metadata": {},
   "outputs": [],
   "source": [
    "def konto(msg, window=None): \n",
    "    '''\n",
    "    * Kontoyiannis’ LZ entropy estimate, 2013 version (centered window). \n",
    "    * Inverse of the avg length of the shortest non-redundant substring. \n",
    "    * If non-redundant substrings are short, the text is highly entropic. \n",
    "    * window == None for expanding window, in which case len(msg) % 2 == 0\n",
    "    * If the end of msg is more relevant, try konto(msg[::-1]) '''\n",
    "    \n",
    "    out={'num':0, 'sum':0, 'subS':[]}\n",
    "    if not isinstance(msg, str):\n",
    "        msg = ''.join(map(str, msg))\n",
    "    if window is None:\n",
    "        points = range(1, len(msg) // 2 + 1) # 1 -7\n",
    "    else:\n",
    "        window = min(window, len(msg) // 2) \n",
    "        points = range(window, len(msg) - window + 1)\n",
    "        \n",
    "    for i in points:\n",
    "        if window is None:\n",
    "            l, msg_ = matchLength(msg, i, i)\n",
    "#             print(l, msg_)\n",
    "            out['sum'] += np.log2(i + 1) / l # to avoid Doeblin condition \n",
    "        else:\n",
    "            \n",
    "            l , msg_ = matchLength(msg, i, window)\n",
    "            out['sum'] += np.log2(window + 1) / l # to avoid Doeblin condition \n",
    "        out['subS'].append(msg_)\n",
    "        out['num'] += 1\n",
    "    out['h'] = out['sum']/out['num'] \n",
    "    out['r'] = 1 - out['h'] / np.log2(len(msg)) # redundancy, 0<=r<=1 \n",
    "    return out\n",
    "\n",
    "# print(konto(msg*2))\n",
    "# print(konto(msg+msg[::-1]))"
   ]
  },
  {
   "cell_type": "code",
   "execution_count": 491,
   "metadata": {},
   "outputs": [
    {
     "name": "stdout",
     "output_type": "stream",
     "text": [
      "{'num': 26, 'sum': 7.81829058499836, 'subS': ['0', '00', '000', '0000', '00000', '000000', '0000000', '00000000', '000000000', '0000000000', '00000000000', '000000000000', '0000000000000', '00000000000000', '000000000000000', '0000000000000000', '00000000000000000', '000000000000000000', '0000000000000000000', '00000000000000000000', '000000000000000000000', '0000000000000000000000', '00000000000000000000000', '000000000000000000000000', '0000000000000000000000000', '00000000000000000000000000'], 'h': 0.30070348403839847, 'r': 0.9472490721932487}\n",
      "{'num': 4, 'sum': 3.3559515476840662, 'subS': ['', '00', '00', '0'], 'h': 0.8389878869210166, 'r': 0.7203373710263279}\n"
     ]
    }
   ],
   "source": [
    "print(konto('10000111'))\n",
    "print(konto('10000110'))"
   ]
  },
  {
   "cell_type": "code",
   "execution_count": 222,
   "metadata": {},
   "outputs": [
    {
     "name": "stdout",
     "output_type": "stream",
     "text": [
      "{'num': 4, 'sum': 3.8729632740824185, 'subS': ['1', '1', '', '000'], 'h': 0.9682408185206046, 'r': 0.6772530604931317}\n",
      "{'num': 4, 'sum': 3.3729632740824185, 'subS': ['', '1', '0', '000'], 'h': 0.8432408185206046, 'r': 0.7189197271597985}\n"
     ]
    }
   ],
   "source": [
    "print(konto('10000111'[::-1]))\n",
    "print(konto('10000110'[::-1]))"
   ]
  },
  {
   "cell_type": "markdown",
   "metadata": {},
   "source": [
    "#### (e) Compute the entropy of the three encoded series, using Kontoyiannis’ method, with a window size of 100."
   ]
  },
  {
   "cell_type": "code",
   "execution_count": 238,
   "metadata": {},
   "outputs": [
    {
     "name": "stdout",
     "output_type": "stream",
     "text": [
      "0.8312900405921321\n",
      "CPU times: user 17 s, sys: 36 ms, total: 17 s\n",
      "Wall time: 17.1 s\n",
      "2.4797323127529904\n",
      "CPU times: user 17.7 s, sys: 73.8 ms, total: 17.8 s\n",
      "Wall time: 18 s\n",
      "0.6370205498768906\n",
      "CPU times: user 48.4 s, sys: 190 ms, total: 48.6 s\n",
      "Wall time: 49.1 s\n"
     ]
    }
   ],
   "source": [
    "win=100\n",
    "# Entropy binary encoding\n",
    "%time print(konto(be[0:10000], win)['h'])\n",
    "# Entropy quantile encoding\n",
    "%time print(konto(qe[0:10000], win)['h'])\n",
    "# Entropy sigma encoding \n",
    "%time print(konto(se[0:10000], win)['h'])"
   ]
  },
  {
   "cell_type": "markdown",
   "metadata": {},
   "source": [
    "### 18.2 Using the bars from exercise 1:\n",
    "#### (a) Compute the returns series, {rt}.\n",
    "#### (b) Encode the series as follows: 0 if rtrt−1 < 0, and 1 if rtrt−1 ≥ 0."
   ]
  },
  {
   "cell_type": "code",
   "execution_count": 257,
   "metadata": {},
   "outputs": [],
   "source": [
    "rt = pd.concat([r.rename('or'), r.shift(1)], axis=1)\n",
    "rt = rt['or'] * rt.close\n",
    "rt = rt.dropna()\n",
    "rt = pd.Series(np.where(rt < 0,0,1), index=rt.index)\n",
    "# rt.iloc[0:1].values"
   ]
  },
  {
   "cell_type": "markdown",
   "metadata": {},
   "source": [
    "#### (c) Partition the series into 1000 non-overlapping subsets of equal size (you may have to drop some observations at the beginning)."
   ]
  },
  {
   "cell_type": "code",
   "execution_count": 263,
   "metadata": {},
   "outputs": [],
   "source": [
    "sub_size=1000\n",
    "num = rt.shape[0]//1000\n",
    "\n",
    "s = []\n",
    "for i in range(num):\n",
    "    s_ = rt.iloc[i:1000 * (i+1)]\n",
    "    s.append(s_)"
   ]
  },
  {
   "cell_type": "markdown",
   "metadata": {},
   "source": [
    "#### (d) Compute the entropy of each of the 1000 encoded subsets, using the plug-in method."
   ]
  },
  {
   "cell_type": "code",
   "execution_count": 273,
   "metadata": {},
   "outputs": [
    {
     "data": {
      "text/plain": [
       "2185"
      ]
     },
     "execution_count": 273,
     "metadata": {},
     "output_type": "execute_result"
    }
   ],
   "source": [
    "len(s)"
   ]
  },
  {
   "cell_type": "code",
   "execution_count": 283,
   "metadata": {},
   "outputs": [
    {
     "name": "stdout",
     "output_type": "stream",
     "text": [
      "CPU times: user 300 ms, sys: 6.64 ms, total: 307 ms\n",
      "Wall time: 315 ms\n"
     ]
    },
    {
     "data": {
      "text/plain": [
       "[0.8988610370442902,\n",
       " 0.8839044851478619,\n",
       " 0.8835622497868979,\n",
       " 0.8948786178658559,\n",
       " 0.8946099563127436,\n",
       " 0.8830171669957383,\n",
       " 0.880380157577554,\n",
       " 0.8829818354221756,\n",
       " 0.8867138220301641,\n",
       " 0.8858546770418745]"
      ]
     },
     "execution_count": 283,
     "metadata": {},
     "output_type": "execute_result"
    }
   ],
   "source": [
    "%time pim = [plugIn(x, 1)[0] for x in s[0:10]]\n",
    "pim"
   ]
  },
  {
   "cell_type": "markdown",
   "metadata": {},
   "source": [
    "#### (e) Compute the entropy of each of the 1000 encoded subsets, using the Kontoyiannis method, with a window size of 100."
   ]
  },
  {
   "cell_type": "code",
   "execution_count": 279,
   "metadata": {},
   "outputs": [
    {
     "name": "stdout",
     "output_type": "stream",
     "text": [
      "CPU times: user 1min 31s, sys: 499 ms, total: 1min 31s\n",
      "Wall time: 1min 33s\n"
     ]
    },
    {
     "data": {
      "text/plain": [
       "[0.7863022729838257,\n",
       " 0.7789841670451053,\n",
       " 0.7871440961029277,\n",
       " 0.7931576293177454,\n",
       " 0.7948583369809137,\n",
       " 0.7859008256896164,\n",
       " 0.7850257988329868,\n",
       " 0.7887369258224388,\n",
       " 0.789404525826153,\n",
       " 0.7883841362470622]"
      ]
     },
     "execution_count": 279,
     "metadata": {},
     "output_type": "execute_result"
    }
   ],
   "source": [
    "%time kom = [konto(x, 100)['h'] for x in s[0:10]]\n",
    "kom"
   ]
  },
  {
   "cell_type": "markdown",
   "metadata": {},
   "source": [
    "#### (f) Compute the correlation between results 2.d and 2.e."
   ]
  },
  {
   "cell_type": "code",
   "execution_count": 284,
   "metadata": {},
   "outputs": [
    {
     "data": {
      "text/plain": [
       "array([[1.        , 0.51669967],\n",
       "       [0.51669967, 1.        ]])"
      ]
     },
     "execution_count": 284,
     "metadata": {},
     "output_type": "execute_result"
    }
   ],
   "source": [
    "np.corrcoef(np.array([pim, kom]))\n",
    "# .shape"
   ]
  },
  {
   "cell_type": "markdown",
   "metadata": {},
   "source": [
    "### 18.3 Draw 1000 observations from a standard Normal distribution:\n",
    "#### (a) What is the true entropy of this process?"
   ]
  },
  {
   "cell_type": "code",
   "execution_count": 312,
   "metadata": {},
   "outputs": [],
   "source": [
    "nd = pd.Series(np.random.randn(1000)*10)"
   ]
  },
  {
   "cell_type": "code",
   "execution_count": 462,
   "metadata": {},
   "outputs": [
    {
     "name": "stdout",
     "output_type": "stream",
     "text": [
      "1.4229804224687623\n",
      "0.029352307861268093\n",
      "1.647916354876682\n",
      "0.003571238778492555\n"
     ]
    }
   ],
   "source": [
    "np.random.seed(0)\n",
    "l = []\n",
    "pl = []\n",
    "for i in range(100):\n",
    "    nd = pd.Series(np.random.randn(100))\n",
    "    end = get_quantile_encoding(nd, 9)\n",
    "    l.append(konto(end,2)['h'])\n",
    "    pl.append(plugIn(end,4)[0])\n",
    "print(np.mean(l))\n",
    "print(np.std(l))\n",
    "\n",
    "print(np.mean(pl))\n",
    "print(np.std(pl))"
   ]
  },
  {
   "cell_type": "code",
   "execution_count": null,
   "metadata": {},
   "outputs": [],
   "source": []
  },
  {
   "cell_type": "code",
   "execution_count": 439,
   "metadata": {},
   "outputs": [
    {
     "data": {
      "text/plain": [
       "1.4189385332046727"
      ]
     },
     "execution_count": 439,
     "metadata": {},
     "output_type": "execute_result"
    }
   ],
   "source": [
    "(0.5)*np.log(2*np.pi*np.e*1**2)"
   ]
  },
  {
   "cell_type": "markdown",
   "metadata": {},
   "source": [
    "#### (b) Label the observations according to 8 quantiles."
   ]
  },
  {
   "cell_type": "code",
   "execution_count": 470,
   "metadata": {},
   "outputs": [],
   "source": [
    "def get_quantile_encoding(series, num_q):\n",
    "    quantiles = [series.quantile(x) for x in np.linspace(1/num_q, 1, num_q)]\n",
    "\n",
    "    qe = series.copy()\n",
    "    for code, limit in reversed(list(enumerate(quantiles))):\n",
    "        qe.loc[series<=limit] = code\n",
    "    return qe.astype(int)\n",
    "\n",
    "end = get_quantile_encoding(nd, 10)"
   ]
  },
  {
   "cell_type": "markdown",
   "metadata": {},
   "source": [
    "#### (c) Estimate the entropy using the plug-in method."
   ]
  },
  {
   "cell_type": "code",
   "execution_count": 471,
   "metadata": {},
   "outputs": [
    {
     "data": {
      "text/plain": [
       "1.3169925001442322"
      ]
     },
     "execution_count": 471,
     "metadata": {},
     "output_type": "execute_result"
    }
   ],
   "source": [
    "plugIn(end,5)[0]"
   ]
  },
  {
   "cell_type": "markdown",
   "metadata": {},
   "source": [
    "#### (d) Estimate the entropy using the Kontoyiannis method:\n",
    "#### (i) using a window size of 10."
   ]
  },
  {
   "cell_type": "code",
   "execution_count": 472,
   "metadata": {},
   "outputs": [
    {
     "data": {
      "text/plain": [
       "1.495093492948309"
      ]
     },
     "execution_count": 472,
     "metadata": {},
     "output_type": "execute_result"
    }
   ],
   "source": [
    "konto(end, 2)['h']"
   ]
  },
  {
   "cell_type": "code",
   "execution_count": 473,
   "metadata": {},
   "outputs": [
    {
     "data": {
      "text/plain": [
       "2.2778150575389633"
      ]
     },
     "execution_count": 473,
     "metadata": {},
     "output_type": "execute_result"
    }
   ],
   "source": [
    "konto(end, 10)['h']"
   ]
  },
  {
   "cell_type": "markdown",
   "metadata": {},
   "source": [
    "#### (ii) using a window size of 100."
   ]
  },
  {
   "cell_type": "code",
   "execution_count": 476,
   "metadata": {},
   "outputs": [
    {
     "data": {
      "text/plain": [
       "1.8908084473238318"
      ]
     },
     "execution_count": 476,
     "metadata": {},
     "output_type": "execute_result"
    }
   ],
   "source": [
    "konto(end, 100)['h']"
   ]
  },
  {
   "cell_type": "markdown",
   "metadata": {},
   "source": [
    "### 18.4 Using the draws from exercise 3, {xt}: t=1,...,1000:\n",
    "#### (a) Compute yt =𝜌yt−1 +x_t, where 𝜌=.5, y0 =0."
   ]
  },
  {
   "cell_type": "code",
   "execution_count": 350,
   "metadata": {},
   "outputs": [],
   "source": [
    "p=0.5\n",
    "yt=[0]\n",
    "for x in nd:\n",
    "    y = p*yt[-1] + x\n",
    "    yt.append(y)\n",
    "# this turns into a autocorrelated time series"
   ]
  },
  {
   "cell_type": "code",
   "execution_count": 358,
   "metadata": {},
   "outputs": [],
   "source": [
    "# sm.graphics.tsa.plot_acf(yt, lags=120,\n",
    "#                                  alpha=0.05, unbiased=True, fft=True,\n",
    "#                                  zero=False)"
   ]
  },
  {
   "cell_type": "markdown",
   "metadata": {},
   "source": [
    "#### (b) Label {yt} the observations according to 8 quantiles."
   ]
  },
  {
   "cell_type": "code",
   "execution_count": 370,
   "metadata": {},
   "outputs": [],
   "source": [
    "qe = get_quantile_encoding(pd.Series(yt), 8)"
   ]
  },
  {
   "cell_type": "markdown",
   "metadata": {},
   "source": [
    "#### (c) Estimate the entropy using the plug-in method."
   ]
  },
  {
   "cell_type": "code",
   "execution_count": 477,
   "metadata": {},
   "outputs": [
    {
     "data": {
      "text/plain": [
       "3.321921632906739"
      ]
     },
     "execution_count": 477,
     "metadata": {},
     "output_type": "execute_result"
    }
   ],
   "source": [
    "plugIn(qe, 1)[0]"
   ]
  },
  {
   "cell_type": "markdown",
   "metadata": {},
   "source": [
    "#### (d) Estimate the entropy using the Kontoyiannis method\n",
    "#### (i) using a window size of 10. "
   ]
  },
  {
   "cell_type": "code",
   "execution_count": 482,
   "metadata": {},
   "outputs": [
    {
     "data": {
      "text/plain": [
       "2.249804833043859"
      ]
     },
     "execution_count": 482,
     "metadata": {},
     "output_type": "execute_result"
    }
   ],
   "source": [
    "konto(qe,10)['h']"
   ]
  },
  {
   "cell_type": "markdown",
   "metadata": {},
   "source": [
    "#### (ii) using a window size of 100."
   ]
  },
  {
   "cell_type": "code",
   "execution_count": 373,
   "metadata": {},
   "outputs": [
    {
     "data": {
      "text/plain": [
       "2.483130990637225"
      ]
     },
     "execution_count": 373,
     "metadata": {},
     "output_type": "execute_result"
    }
   ],
   "source": [
    "konto(qe,100)['h']"
   ]
  },
  {
   "cell_type": "markdown",
   "metadata": {},
   "source": [
    "### 18.5 Suppose a portfolio of 10 holdings with equal dollar allocations.\n",
    "#### (a) The portion of the total risk contributed by the ith principal component is 1/10 , i = 1, ... , 10. What is the portfolio’s entropy?\n"
   ]
  },
  {
   "cell_type": "markdown",
   "metadata": {},
   "source": [
    "#### (b) The portion of the total risk contributed by the ith principal component is 1 -i/55, i = 1, ... , 10. What is the portfolio’s entropy?\n"
   ]
  },
  {
   "cell_type": "markdown",
   "metadata": {},
   "source": [
    "#### (c) The portion of the total risk contributed by the ith principal component is 𝛼1/10 +(1−𝛼)(1−i/55), i=1,...,10, 𝛼 ∈ [0,1]. Plot the portfolios entropy as a function of 𝛼."
   ]
  },
  {
   "cell_type": "code",
   "execution_count": 483,
   "metadata": {},
   "outputs": [
    {
     "name": "stdout",
     "output_type": "stream",
     "text": [
      "The complexity of the string [0 0 0 0 0 0 0 1 1 1 1 1 1] is 3\n",
      "The complexity of the string [0 1 1 0 1 0 0 1 0 1 1 1 0] is 6\n"
     ]
    }
   ],
   "source": [
    "\"\"\"\n",
    "Simple script implementing Kaspar & Schuster's algorithm for\n",
    "Lempel-Ziv complexity (1976 version).\n",
    "\n",
    "If you use this script, please cite the following paper containing a sample\n",
    "use case and further description of the use of LZ in neuroscience:\n",
    "\n",
    "Dolan D. et al (2018). The Improvisational State of Mind: A Multidisciplinary\n",
    "Study of an Improvisatory Approach to Classical Music Repertoire Performance.\n",
    "Front. Psychol. 9:1341. doi: 10.3389/fpsyg.2018.01341\n",
    "\n",
    "Pedro Mediano and Fernando Rosas, 2019\n",
    "\"\"\"\n",
    "import numpy as np\n",
    "\n",
    "def LZ76(ss):\n",
    "    \"\"\"\n",
    "    Calculate Lempel-Ziv's algorithmic complexity using the LZ76 algorithm\n",
    "    and the sliding-window implementation.\n",
    "\n",
    "    Reference:\n",
    "\n",
    "    F. Kaspar, H. G. Schuster, \"Easily-calculable measure for the\n",
    "    complexity of spatiotemporal patterns\", Physical Review A, Volume 36,\n",
    "    Number 2 (1987).\n",
    "\n",
    "    Input:\n",
    "      ss -- array of integers\n",
    "\n",
    "    Output:\n",
    "      c  -- integer\n",
    "    \"\"\"\n",
    "\n",
    "    ss = ss.flatten().tolist()\n",
    "    i, k, l = 0, 1, 1\n",
    "    c, k_max = 1, 1\n",
    "    n = len(ss)\n",
    "    while True:\n",
    "        if ss[i + k - 1] == ss[l + k - 1]:\n",
    "            k = k + 1\n",
    "            if l + k > n:\n",
    "                c = c + 1\n",
    "                break\n",
    "        else:\n",
    "            if k > k_max:\n",
    "               k_max = k\n",
    "            i = i + 1\n",
    "            if i == l:\n",
    "                c = c + 1\n",
    "                l = l + k_max\n",
    "                if l + 1 > n:\n",
    "                    break\n",
    "                else:\n",
    "                    i = 0\n",
    "                    k = 1\n",
    "                    k_max = 1\n",
    "            else:\n",
    "                k = 1\n",
    "    return c\n",
    "\n",
    "\n",
    "if __name__ == '__main__':\n",
    "    # Simple string, low complexity\n",
    "    ss = np.array([0,0,0,0,0,0,0,1,1,1,1,1,1])\n",
    "    print('The complexity of the string %s is %i'%(ss, LZ76(ss)))\n",
    "\n",
    "    # Irregular string, high complexity\n",
    "    ss = np.array([0,1,1,0,1,0,0,1,0,1,1,1,0])\n",
    "    print('The complexity of the string %s is %i'%(ss, LZ76(ss)))"
   ]
  },
  {
   "cell_type": "code",
   "execution_count": 488,
   "metadata": {},
   "outputs": [
    {
     "data": {
      "text/plain": [
       "{'num': 6,\n",
       " 'sum': 5.227443929531345,\n",
       " 'subS': ['', '1', '01', '10', '0', '010'],\n",
       " 'h': 0.8712406549218908,\n",
       " 'r': 0.7645575333518588}"
      ]
     },
     "execution_count": 488,
     "metadata": {},
     "output_type": "execute_result"
    }
   ],
   "source": [
    "konto([0,1,1,0,1,0,0,1,0,1,1,1,0])"
   ]
  }
 ],
 "metadata": {
  "kernelspec": {
   "display_name": "Python 3",
   "language": "python",
   "name": "python3"
  },
  "language_info": {
   "codemirror_mode": {
    "name": "ipython",
    "version": 3
   },
   "file_extension": ".py",
   "mimetype": "text/x-python",
   "name": "python",
   "nbconvert_exporter": "python",
   "pygments_lexer": "ipython3",
   "version": "3.7.7"
  }
 },
 "nbformat": 4,
 "nbformat_minor": 4
}
